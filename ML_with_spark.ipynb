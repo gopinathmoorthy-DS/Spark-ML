{
  "nbformat": 4,
  "nbformat_minor": 0,
  "metadata": {
    "colab": {
      "name": "ML with spark.ipynb",
      "provenance": [],
      "collapsed_sections": [],
      "mount_file_id": "16-xnYFf96Oz0URhaTt0E5A34VZavXsrH",
      "authorship_tag": "ABX9TyMtfiEglPKEzoZUwTTXptsK",
      "include_colab_link": true
    },
    "kernelspec": {
      "name": "python3",
      "display_name": "Python 3"
    }
  },
  "cells": [
    {
      "cell_type": "markdown",
      "metadata": {
        "id": "view-in-github",
        "colab_type": "text"
      },
      "source": [
        "<a href=\"https://colab.research.google.com/github/gopinathmoorthy-DS/Spark-ML/blob/main/ML_with_spark.ipynb\" target=\"_parent\"><img src=\"https://colab.research.google.com/assets/colab-badge.svg\" alt=\"Open In Colab\"/></a>"
      ]
    },
    {
      "cell_type": "code",
      "metadata": {
        "id": "PC-dwcaHbWiM",
        "outputId": "49b34f75-c47a-4c3c-b21c-e30c2eb82882",
        "colab": {
          "base_uri": "https://localhost:8080/"
        }
      },
      "source": [
        "# install java\n",
        "!apt-get install openjdk-8-jdk-headless -qq > /dev/null\n",
        "\n",
        "# install spark (change the version number if needed)\n",
        "!wget -q https://archive.apache.org/dist/spark/spark-3.0.0/spark-3.0.0-bin-hadoop3.2.tgz\n",
        "\n",
        "# unzip the spark file to the current folder\n",
        "!tar xf spark-3.0.0-bin-hadoop3.2.tgz\n",
        "\n",
        "# set your spark folder to your system path environment. \n",
        "import os\n",
        "os.environ[\"JAVA_HOME\"] = \"/usr/lib/jvm/java-8-openjdk-amd64\"\n",
        "os.environ[\"SPARK_HOME\"] = \"/content/spark-3.0.0-bin-hadoop3.2\"\n",
        "\n",
        "\n",
        "# install findspark using pip\n",
        "!pip install -q findspark\n",
        "\n",
        "## install pyspark\n",
        "!pip install pyspark"
      ],
      "execution_count": null,
      "outputs": [
        {
          "output_type": "stream",
          "text": [
            "Collecting pyspark\n",
            "\u001b[?25l  Downloading https://files.pythonhosted.org/packages/f0/26/198fc8c0b98580f617cb03cb298c6056587b8f0447e20fa40c5b634ced77/pyspark-3.0.1.tar.gz (204.2MB)\n",
            "\u001b[K     |████████████████████████████████| 204.2MB 61kB/s \n",
            "\u001b[?25hCollecting py4j==0.10.9\n",
            "\u001b[?25l  Downloading https://files.pythonhosted.org/packages/9e/b6/6a4fb90cd235dc8e265a6a2067f2a2c99f0d91787f06aca4bcf7c23f3f80/py4j-0.10.9-py2.py3-none-any.whl (198kB)\n",
            "\u001b[K     |████████████████████████████████| 204kB 44.6MB/s \n",
            "\u001b[?25hBuilding wheels for collected packages: pyspark\n",
            "  Building wheel for pyspark (setup.py) ... \u001b[?25l\u001b[?25hdone\n",
            "  Created wheel for pyspark: filename=pyspark-3.0.1-py2.py3-none-any.whl size=204612243 sha256=e9130ca0aa206a6633dbd9c83d5019e9fa85a81fc7f2533f925d4f1b6ba925a6\n",
            "  Stored in directory: /root/.cache/pip/wheels/5e/bd/07/031766ca628adec8435bb40f0bd83bb676ce65ff4007f8e73f\n",
            "Successfully built pyspark\n",
            "Installing collected packages: py4j, pyspark\n",
            "Successfully installed py4j-0.10.9 pyspark-3.0.1\n"
          ],
          "name": "stdout"
        }
      ]
    },
    {
      "cell_type": "code",
      "metadata": {
        "id": "6SnuL1r5c2N9",
        "outputId": "86e4ee6e-6db8-42b2-f8a6-2dfaf2e5dff5",
        "colab": {
          "base_uri": "https://localhost:8080/"
        }
      },
      "source": [
        "## Loading files from google drive\n",
        "from google.colab import drive\n",
        "drive.mount('/content/drive')"
      ],
      "execution_count": null,
      "outputs": [
        {
          "output_type": "stream",
          "text": [
            "Drive already mounted at /content/drive; to attempt to forcibly remount, call drive.mount(\"/content/drive\", force_remount=True).\n"
          ],
          "name": "stdout"
        }
      ]
    },
    {
      "cell_type": "code",
      "metadata": {
        "id": "Eh64gZU9xSfd"
      },
      "source": [
        "## Creating spark session\n",
        "from pyspark.sql import SparkSession\n",
        "spark = SparkSession.builder.master(\"local[*]\").getOrCreate()\n",
        "sc= spark.sparkContext"
      ],
      "execution_count": null,
      "outputs": []
    },
    {
      "cell_type": "code",
      "metadata": {
        "id": "-TcoHqUsYMkY"
      },
      "source": [
        "## Importing libraries\n",
        "from pyspark.sql import functions as F\n",
        "from pyspark.ml import Pipeline\n",
        "from pyspark.ml.feature import OneHotEncoder,StringIndexer,VectorAssembler,Imputer,QuantileDiscretizer\n",
        "from pyspark.ml.classification import LogisticRegression"
      ],
      "execution_count": null,
      "outputs": []
    },
    {
      "cell_type": "code",
      "metadata": {
        "id": "DGKd13rR4VZb"
      },
      "source": [
        "## function to read data in different formats\n",
        "def read_data(file_path,file_type,inferschema=\"true\",first_row_header=\"true\",delimiter=\",\",nanvalue=' ',nullvalue=' '):\n",
        "  df=spark.read.format(file_type)\\\n",
        "     .option(\"inferSchema\",inferschema)\\\n",
        "     .option(\"header\",first_row_header)\\\n",
        "     .option(\"sep\",delimiter)\\\n",
        "     .option(\"nanValue\",nanvalue)\\\n",
        "     .option(\"nullValue\",nullvalue)\\\n",
        "     .load(file_path) \n",
        "  return df"
      ],
      "execution_count": null,
      "outputs": []
    },
    {
      "cell_type": "code",
      "metadata": {
        "id": "osHA3PulYykK"
      },
      "source": [
        "## Finding missing columns in percentage/count\n",
        "def missing_count(df,percentage=False,cols=None):\n",
        "  if percentage is False:\n",
        "    if cols is None:\n",
        "      df_agg = df.agg(*[F.count(F.when(F.isnull(c), c)).alias(c) for c in df.columns])\n",
        "    else:\n",
        "      df_agg = df.agg(*[F.count(F.when(F.isnull(c), c)).alias(c) for c in cols])\n",
        "  else:\n",
        "    df_size=df.count()\n",
        "    if cols is None:\n",
        "      df_agg = df.agg(*[F.round(((F.count(F.when(F.isnull(c), c))/df_size)*100),2).alias(c) for c in df.columns])\n",
        "    else:\n",
        "      df_agg = df.agg(*[F.round(((F.count(F.when(F.isnull(c), c))/df_size)*100),2).alias(c) for c in cols])\n",
        "  return df_agg"
      ],
      "execution_count": null,
      "outputs": []
    },
    {
      "cell_type": "code",
      "metadata": {
        "id": "SB-ZZ7FCysNM"
      },
      "source": [
        "## File location and type\n",
        "file_location='/content/drive/My Drive/wa-fnusec-telcocustomerchurn/WA_Fn-UseC_-Telco-Customer-Churn.csv'\n",
        "file_type='csv'"
      ],
      "execution_count": null,
      "outputs": []
    },
    {
      "cell_type": "code",
      "metadata": {
        "id": "ZOGm7NS-siOs"
      },
      "source": [
        "## Reading data\n",
        "customer_df=read_data(file_location,file_type)"
      ],
      "execution_count": null,
      "outputs": []
    },
    {
      "cell_type": "code",
      "metadata": {
        "id": "liHDBI3h16d5",
        "outputId": "1c4f6eda-136d-471a-dad2-51a08fcf10c8",
        "colab": {
          "base_uri": "https://localhost:8080/"
        }
      },
      "source": [
        "customer_df.show(5)"
      ],
      "execution_count": null,
      "outputs": [
        {
          "output_type": "stream",
          "text": [
            "+----------+------+-------------+-------+----------+------+------------+----------------+---------------+--------------+------------+----------------+-----------+-----------+---------------+--------------+----------------+--------------------+--------------+------------+-----+\n",
            "|customerID|gender|SeniorCitizen|Partner|Dependents|tenure|PhoneService|   MultipleLines|InternetService|OnlineSecurity|OnlineBackup|DeviceProtection|TechSupport|StreamingTV|StreamingMovies|      Contract|PaperlessBilling|       PaymentMethod|MonthlyCharges|TotalCharges|Churn|\n",
            "+----------+------+-------------+-------+----------+------+------------+----------------+---------------+--------------+------------+----------------+-----------+-----------+---------------+--------------+----------------+--------------------+--------------+------------+-----+\n",
            "|7590-VHVEG|Female|            0|    Yes|        No|     1|          No|No phone service|            DSL|            No|         Yes|              No|         No|         No|             No|Month-to-month|             Yes|    Electronic check|         29.85|       29.85|   No|\n",
            "|5575-GNVDE|  Male|            0|     No|        No|    34|         Yes|              No|            DSL|           Yes|          No|             Yes|         No|         No|             No|      One year|              No|        Mailed check|         56.95|      1889.5|   No|\n",
            "|3668-QPYBK|  Male|            0|     No|        No|     2|         Yes|              No|            DSL|           Yes|         Yes|              No|         No|         No|             No|Month-to-month|             Yes|        Mailed check|         53.85|      108.15|  Yes|\n",
            "|7795-CFOCW|  Male|            0|     No|        No|    45|          No|No phone service|            DSL|           Yes|          No|             Yes|        Yes|         No|             No|      One year|              No|Bank transfer (au...|          42.3|     1840.75|   No|\n",
            "|9237-HQITU|Female|            0|     No|        No|     2|         Yes|              No|    Fiber optic|            No|          No|              No|         No|         No|             No|Month-to-month|             Yes|    Electronic check|          70.7|      151.65|  Yes|\n",
            "+----------+------+-------------+-------+----------+------+------------+----------------+---------------+--------------+------------+----------------+-----------+-----------+---------------+--------------+----------------+--------------------+--------------+------------+-----+\n",
            "only showing top 5 rows\n",
            "\n"
          ],
          "name": "stdout"
        }
      ]
    },
    {
      "cell_type": "code",
      "metadata": {
        "id": "3jC0f1Kf2KVV",
        "outputId": "ccbe7ae8-7521-4cae-bf4b-9fc3968312b1",
        "colab": {
          "base_uri": "https://localhost:8080/"
        }
      },
      "source": [
        "customer_df.printSchema()"
      ],
      "execution_count": null,
      "outputs": [
        {
          "output_type": "stream",
          "text": [
            "root\n",
            " |-- customerID: string (nullable = true)\n",
            " |-- gender: string (nullable = true)\n",
            " |-- SeniorCitizen: integer (nullable = true)\n",
            " |-- Partner: string (nullable = true)\n",
            " |-- Dependents: string (nullable = true)\n",
            " |-- tenure: integer (nullable = true)\n",
            " |-- PhoneService: string (nullable = true)\n",
            " |-- MultipleLines: string (nullable = true)\n",
            " |-- InternetService: string (nullable = true)\n",
            " |-- OnlineSecurity: string (nullable = true)\n",
            " |-- OnlineBackup: string (nullable = true)\n",
            " |-- DeviceProtection: string (nullable = true)\n",
            " |-- TechSupport: string (nullable = true)\n",
            " |-- StreamingTV: string (nullable = true)\n",
            " |-- StreamingMovies: string (nullable = true)\n",
            " |-- Contract: string (nullable = true)\n",
            " |-- PaperlessBilling: string (nullable = true)\n",
            " |-- PaymentMethod: string (nullable = true)\n",
            " |-- MonthlyCharges: double (nullable = true)\n",
            " |-- TotalCharges: double (nullable = true)\n",
            " |-- Churn: string (nullable = true)\n",
            "\n"
          ],
          "name": "stdout"
        }
      ]
    },
    {
      "cell_type": "code",
      "metadata": {
        "id": "lQTWhHvz7_hh",
        "outputId": "389f3b8f-9a02-4abf-c836-4fa13cb760b9",
        "colab": {
          "base_uri": "https://localhost:8080/"
        }
      },
      "source": [
        "missing_count(customer_df).show()"
      ],
      "execution_count": null,
      "outputs": [
        {
          "output_type": "stream",
          "text": [
            "+----------+------+-------------+-------+----------+------+------------+-------------+---------------+--------------+------------+----------------+-----------+-----------+---------------+--------+----------------+-------------+--------------+------------+-----+\n",
            "|customerID|gender|SeniorCitizen|Partner|Dependents|tenure|PhoneService|MultipleLines|InternetService|OnlineSecurity|OnlineBackup|DeviceProtection|TechSupport|StreamingTV|StreamingMovies|Contract|PaperlessBilling|PaymentMethod|MonthlyCharges|TotalCharges|Churn|\n",
            "+----------+------+-------------+-------+----------+------+------------+-------------+---------------+--------------+------------+----------------+-----------+-----------+---------------+--------+----------------+-------------+--------------+------------+-----+\n",
            "|         0|     0|            0|      0|         0|     0|           0|            0|              0|             0|           0|               0|          0|          0|              0|       0|               0|            0|             0|          11|    0|\n",
            "+----------+------+-------------+-------+----------+------+------------+-------------+---------------+--------------+------------+----------------+-----------+-----------+---------------+--------+----------------+-------------+--------------+------------+-----+\n",
            "\n"
          ],
          "name": "stdout"
        }
      ]
    },
    {
      "cell_type": "code",
      "metadata": {
        "id": "U-zauuceZD9K",
        "outputId": "f491d81e-c54b-41bd-f8bc-5f6338975775",
        "colab": {
          "base_uri": "https://localhost:8080/"
        }
      },
      "source": [
        "## churn and not churn users\n",
        "customer_df.groupBy('Churn').count().show()"
      ],
      "execution_count": null,
      "outputs": [
        {
          "output_type": "stream",
          "text": [
            "+-----+-----+\n",
            "|Churn|count|\n",
            "+-----+-----+\n",
            "|   No| 5174|\n",
            "|  Yes| 1869|\n",
            "+-----+-----+\n",
            "\n"
          ],
          "name": "stdout"
        }
      ]
    },
    {
      "cell_type": "code",
      "metadata": {
        "id": "ePuDmtu1kR7p",
        "outputId": "4f38eafc-1984-45e6-deb3-2309a34072b4",
        "colab": {
          "base_uri": "https://localhost:8080/"
        }
      },
      "source": [
        "## EDA numeric columns\n",
        "customer_df.select('tenure','TotalCharges','MonthlyCharges').describe().show()"
      ],
      "execution_count": null,
      "outputs": [
        {
          "output_type": "stream",
          "text": [
            "+-------+------------------+------------------+------------------+\n",
            "|summary|            tenure|      TotalCharges|    MonthlyCharges|\n",
            "+-------+------------------+------------------+------------------+\n",
            "|  count|              7043|              7032|              7043|\n",
            "|   mean| 32.37114865824223|2283.3004408418697| 64.76169246059922|\n",
            "| stddev|24.559481023094442| 2266.771361883145|30.090047097678482|\n",
            "|    min|                 0|              18.8|             18.25|\n",
            "|    max|                72|            8684.8|            118.75|\n",
            "+-------+------------------+------------------+------------------+\n",
            "\n"
          ],
          "name": "stdout"
        }
      ]
    },
    {
      "cell_type": "code",
      "metadata": {
        "id": "ux6xTYDzkhG1",
        "outputId": "bbe8fd11-56f3-4d43-ef12-10c3612bff86",
        "colab": {
          "base_uri": "https://localhost:8080/"
        }
      },
      "source": [
        "## Gender wise churn\n",
        "customer_df.groupBy('gender','Churn').count().show()"
      ],
      "execution_count": null,
      "outputs": [
        {
          "output_type": "stream",
          "text": [
            "+------+-----+-----+\n",
            "|gender|Churn|count|\n",
            "+------+-----+-----+\n",
            "|  Male|   No| 2625|\n",
            "|  Male|  Yes|  930|\n",
            "|Female|   No| 2549|\n",
            "|Female|  Yes|  939|\n",
            "+------+-----+-----+\n",
            "\n"
          ],
          "name": "stdout"
        }
      ]
    },
    {
      "cell_type": "code",
      "metadata": {
        "id": "m8e6udY7k4uK"
      },
      "source": [
        "## Split data into train and test\n",
        "(train_data,test_data)=customer_df.randomSplit([0.7,0.3],24)"
      ],
      "execution_count": null,
      "outputs": []
    },
    {
      "cell_type": "code",
      "metadata": {
        "id": "ZzdnElpyq6t9"
      },
      "source": [
        "## Catergorical columns\n",
        "catColumns=['gender','SeniorCitizen','Partner','Dependents','PhoneService','MultipleLines','InternetService','OnlineSecurity',\n",
        " 'OnlineBackup','DeviceProtection','TechSupport','StreamingTV','StreamingMovies','Contract',\n",
        " 'PaperlessBilling','PaymentMethod']"
      ],
      "execution_count": null,
      "outputs": []
    },
    {
      "cell_type": "code",
      "metadata": {
        "id": "B5Opt_fmsUNN"
      },
      "source": [
        "## setting different stages for catergorical column indexing\n",
        "stages=[]\n",
        "for catCol in catColumns:\n",
        "  stringIndexer=StringIndexer(inputCol=catCol,outputCol=catCol+\"Index\")\n",
        "  encoder=OneHotEncoder(inputCols=[stringIndexer.getOutputCol()],outputCols=[catCol+\"catVec\"])\n",
        "  stages+=[stringIndexer,encoder]"
      ],
      "execution_count": null,
      "outputs": []
    },
    {
      "cell_type": "code",
      "metadata": {
        "id": "505eB0ajuC0u",
        "outputId": "1c053acf-0fdf-4c2e-8a50-cf222934d9db",
        "colab": {
          "base_uri": "https://localhost:8080/"
        }
      },
      "source": [
        "stages"
      ],
      "execution_count": null,
      "outputs": [
        {
          "output_type": "execute_result",
          "data": {
            "text/plain": [
              "[StringIndexer_5595ae2e2b67,\n",
              " OneHotEncoder_b7e3182ab1ae,\n",
              " StringIndexer_3478750a1900,\n",
              " OneHotEncoder_85550c08544f,\n",
              " StringIndexer_29faa38db638,\n",
              " OneHotEncoder_6e7814bb2163,\n",
              " StringIndexer_ef57268e408f,\n",
              " OneHotEncoder_dc750f1abba5,\n",
              " StringIndexer_f61a440c248b,\n",
              " OneHotEncoder_210e90fcf582,\n",
              " StringIndexer_3bfd3d787d50,\n",
              " OneHotEncoder_40c0c0e6ff48,\n",
              " StringIndexer_d2739a21a07a,\n",
              " OneHotEncoder_de5e7e06ce30,\n",
              " StringIndexer_211bc5331312,\n",
              " OneHotEncoder_5aa9e27e3c89,\n",
              " StringIndexer_6142645124e3,\n",
              " OneHotEncoder_4e24e152607b,\n",
              " StringIndexer_5a18ba84cd20,\n",
              " OneHotEncoder_d83fc8bb7f28,\n",
              " StringIndexer_28ca45568974,\n",
              " OneHotEncoder_25e0fac4b4dd,\n",
              " StringIndexer_2570da0153b9,\n",
              " OneHotEncoder_a828e58f02dd,\n",
              " StringIndexer_09454fb12bc9,\n",
              " OneHotEncoder_7eeaa733ea8a,\n",
              " StringIndexer_ccf28dd9b1ab,\n",
              " OneHotEncoder_d53ab22b5195,\n",
              " StringIndexer_eb346c83a282,\n",
              " OneHotEncoder_a79c9a8f85ff,\n",
              " StringIndexer_96711aafb79b,\n",
              " OneHotEncoder_ab8cb71cab9e]"
            ]
          },
          "metadata": {
            "tags": []
          },
          "execution_count": 20
        }
      ]
    },
    {
      "cell_type": "code",
      "metadata": {
        "id": "vpXxUMqVuHX_"
      },
      "source": [
        "## Imputing Missing in Total Charges\n",
        "imputer=Imputer(inputCols=[\"TotalCharges\"],outputCols=[\"Out_TotalCharges\"])\n",
        "stages+=[imputer]"
      ],
      "execution_count": null,
      "outputs": []
    },
    {
      "cell_type": "code",
      "metadata": {
        "id": "iGZneKBbvFg6"
      },
      "source": [
        "label_Idx=StringIndexer(inputCol=\"Churn\",outputCol=\"label\")\n",
        "stages+=[label_Idx]"
      ],
      "execution_count": null,
      "outputs": []
    },
    {
      "cell_type": "code",
      "metadata": {
        "id": "iKaQ7zaCvVwC"
      },
      "source": [
        "temp=label_Idx.fit(train_data).transform(train_data)"
      ],
      "execution_count": null,
      "outputs": []
    },
    {
      "cell_type": "code",
      "metadata": {
        "id": "XTWE14j3vnq2",
        "outputId": "aa430dd9-6771-4c99-ecce-75cffcfe25c9",
        "colab": {
          "base_uri": "https://localhost:8080/"
        }
      },
      "source": [
        "temp.show()"
      ],
      "execution_count": null,
      "outputs": [
        {
          "output_type": "stream",
          "text": [
            "+----------+------+-------------+-------+----------+------+------------+----------------+---------------+-------------------+-------------------+-------------------+-------------------+-------------------+-------------------+--------------+----------------+--------------------+--------------+------------+-----+-----+\n",
            "|customerID|gender|SeniorCitizen|Partner|Dependents|tenure|PhoneService|   MultipleLines|InternetService|     OnlineSecurity|       OnlineBackup|   DeviceProtection|        TechSupport|        StreamingTV|    StreamingMovies|      Contract|PaperlessBilling|       PaymentMethod|MonthlyCharges|TotalCharges|Churn|label|\n",
            "+----------+------+-------------+-------+----------+------+------------+----------------+---------------+-------------------+-------------------+-------------------+-------------------+-------------------+-------------------+--------------+----------------+--------------------+--------------+------------+-----+-----+\n",
            "|0002-ORFBO|Female|            0|    Yes|       Yes|     9|         Yes|              No|            DSL|                 No|                Yes|                 No|                Yes|                Yes|                 No|      One year|             Yes|        Mailed check|          65.6|       593.3|   No|  0.0|\n",
            "|0003-MKNFE|  Male|            0|     No|        No|     9|         Yes|             Yes|            DSL|                 No|                 No|                 No|                 No|                 No|                Yes|Month-to-month|              No|        Mailed check|          59.9|       542.4|   No|  0.0|\n",
            "|0004-TLHLJ|  Male|            0|     No|        No|     4|         Yes|              No|    Fiber optic|                 No|                 No|                Yes|                 No|                 No|                 No|Month-to-month|             Yes|    Electronic check|          73.9|      280.85|  Yes|  1.0|\n",
            "|0011-IGKFF|  Male|            1|    Yes|        No|    13|         Yes|              No|    Fiber optic|                 No|                Yes|                Yes|                 No|                Yes|                Yes|Month-to-month|             Yes|    Electronic check|          98.0|     1237.85|  Yes|  1.0|\n",
            "|0013-EXCHZ|Female|            1|    Yes|        No|     3|         Yes|              No|    Fiber optic|                 No|                 No|                 No|                Yes|                Yes|                 No|Month-to-month|             Yes|        Mailed check|          83.9|       267.4|  Yes|  1.0|\n",
            "|0013-MHZWF|Female|            0|     No|       Yes|     9|         Yes|              No|            DSL|                 No|                 No|                 No|                Yes|                Yes|                Yes|Month-to-month|             Yes|Credit card (auto...|          69.4|      571.45|   No|  0.0|\n",
            "|0013-SMEOE|Female|            1|    Yes|        No|    71|         Yes|              No|    Fiber optic|                Yes|                Yes|                Yes|                Yes|                Yes|                Yes|      Two year|             Yes|Bank transfer (au...|         109.7|     7904.25|   No|  0.0|\n",
            "|0015-UOCOJ|Female|            1|     No|        No|     7|         Yes|              No|            DSL|                Yes|                 No|                 No|                 No|                 No|                 No|Month-to-month|             Yes|    Electronic check|          48.2|      340.35|   No|  0.0|\n",
            "|0017-DINOC|  Male|            0|     No|        No|    54|          No|No phone service|            DSL|                Yes|                 No|                 No|                Yes|                Yes|                 No|      Two year|              No|Credit card (auto...|          45.2|     2460.55|   No|  0.0|\n",
            "|0017-IUDMW|Female|            0|    Yes|       Yes|    72|         Yes|             Yes|    Fiber optic|                Yes|                Yes|                Yes|                Yes|                Yes|                Yes|      Two year|             Yes|Credit card (auto...|         116.8|     8456.75|   No|  0.0|\n",
            "|0018-NYROU|Female|            0|    Yes|        No|     5|         Yes|              No|    Fiber optic|                 No|                 No|                 No|                 No|                 No|                 No|Month-to-month|             Yes|    Electronic check|         68.95|       351.5|   No|  0.0|\n",
            "|0020-INWCK|Female|            0|    Yes|       Yes|    71|         Yes|             Yes|    Fiber optic|                 No|                Yes|                Yes|                 No|                 No|                Yes|      Two year|             Yes|Credit card (auto...|         95.75|      6849.4|   No|  0.0|\n",
            "|0020-JDNXP|Female|            0|    Yes|       Yes|    34|          No|No phone service|            DSL|                Yes|                 No|                Yes|                Yes|                Yes|                Yes|      One year|              No|        Mailed check|         61.25|      1993.2|   No|  0.0|\n",
            "|0021-IKXGC|Female|            1|     No|        No|     1|         Yes|             Yes|    Fiber optic|                 No|                 No|                 No|                 No|                 No|                 No|Month-to-month|             Yes|    Electronic check|          72.1|        72.1|   No|  0.0|\n",
            "|0027-KWYKW|Female|            0|    Yes|       Yes|    23|         Yes|             Yes|    Fiber optic|                 No|                 No|                 No|                 No|                Yes|                 No|Month-to-month|             Yes|    Electronic check|         83.75|     1849.95|   No|  0.0|\n",
            "|0030-FNXPP|Female|            0|     No|        No|     3|         Yes|              No|             No|No internet service|No internet service|No internet service|No internet service|No internet service|No internet service|Month-to-month|              No|        Mailed check|         19.85|        57.2|   No|  0.0|\n",
            "|0031-PVLZI|Female|            0|    Yes|       Yes|     4|         Yes|              No|             No|No internet service|No internet service|No internet service|No internet service|No internet service|No internet service|Month-to-month|              No|        Mailed check|         20.35|       76.35|  Yes|  1.0|\n",
            "|0032-PGELS|Female|            0|    Yes|       Yes|     1|          No|No phone service|            DSL|                Yes|                 No|                 No|                 No|                 No|                 No|Month-to-month|              No|Bank transfer (au...|          30.5|        30.5|  Yes|  1.0|\n",
            "|0036-IHMOT|Female|            0|    Yes|       Yes|    55|         Yes|              No|    Fiber optic|                 No|                Yes|                Yes|                Yes|                Yes|                Yes|      One year|             Yes|Bank transfer (au...|         103.7|     5656.75|   No|  0.0|\n",
            "|0040-HALCW|  Male|            0|    Yes|       Yes|    54|         Yes|              No|             No|No internet service|No internet service|No internet service|No internet service|No internet service|No internet service|      Two year|              No|Credit card (auto...|          20.4|      1090.6|   No|  0.0|\n",
            "+----------+------+-------------+-------+----------+------+------------+----------------+---------------+-------------------+-------------------+-------------------+-------------------+-------------------+-------------------+--------------+----------------+--------------------+--------------+------------+-----+-----+\n",
            "only showing top 20 rows\n",
            "\n"
          ],
          "name": "stdout"
        }
      ]
    },
    {
      "cell_type": "code",
      "metadata": {
        "id": "0DlekEOJvpio",
        "outputId": "1a215294-5bcd-49ec-e6af-4637657e4857",
        "colab": {
          "base_uri": "https://localhost:8080/"
        }
      },
      "source": [
        "customer_df.stat.corr(\"MonthlyCharges\",\"TotalCharges\")"
      ],
      "execution_count": null,
      "outputs": [
        {
          "output_type": "execute_result",
          "data": {
            "text/plain": [
              "0.6511738315787816"
            ]
          },
          "metadata": {
            "tags": []
          },
          "execution_count": 25
        }
      ]
    },
    {
      "cell_type": "code",
      "metadata": {
        "id": "dcPV2BO7wAoh",
        "outputId": "62bc977c-7d32-447c-9c01-02ea9aa4f3b3",
        "colab": {
          "base_uri": "https://localhost:8080/"
        }
      },
      "source": [
        "customer_df.groupBy(\"tenure\",\"Churn\").count().show()"
      ],
      "execution_count": null,
      "outputs": [
        {
          "output_type": "stream",
          "text": [
            "+------+-----+-----+\n",
            "|tenure|Churn|count|\n",
            "+------+-----+-----+\n",
            "|    46|  Yes|   12|\n",
            "|    27|   No|   59|\n",
            "|    15|  Yes|   37|\n",
            "|    60|   No|   70|\n",
            "|    71|  Yes|    6|\n",
            "|    33|   No|   50|\n",
            "|     3|  Yes|   94|\n",
            "|    14|  Yes|   24|\n",
            "|    46|   No|   62|\n",
            "|    47|   No|   54|\n",
            "|     8|   No|   81|\n",
            "|    60|  Yes|    6|\n",
            "|    57|  Yes|    8|\n",
            "|    52|  Yes|    8|\n",
            "|    14|   No|   52|\n",
            "|    41|   No|   56|\n",
            "|    39|  Yes|   14|\n",
            "|    19|  Yes|   19|\n",
            "|    31|   No|   49|\n",
            "|    66|  Yes|   13|\n",
            "+------+-----+-----+\n",
            "only showing top 20 rows\n",
            "\n"
          ],
          "name": "stdout"
        }
      ]
    },
    {
      "cell_type": "code",
      "metadata": {
        "id": "CT2rzXhAwaxw"
      },
      "source": [
        "## Bucketing tenure of the customer\n",
        "tenure_bin=QuantileDiscretizer(numBuckets=3,inputCol=\"tenure\",outputCol=\"tenure_bin\")\n",
        "stages+=[tenure_bin]"
      ],
      "execution_count": null,
      "outputs": []
    },
    {
      "cell_type": "code",
      "metadata": {
        "id": "OSG7OtJ98bk3",
        "outputId": "38e93ffa-ddc5-4162-dc4b-6d3d4c673cfe",
        "colab": {
          "base_uri": "https://localhost:8080/"
        }
      },
      "source": [
        "stages"
      ],
      "execution_count": null,
      "outputs": [
        {
          "output_type": "execute_result",
          "data": {
            "text/plain": [
              "[StringIndexer_5595ae2e2b67,\n",
              " OneHotEncoder_b7e3182ab1ae,\n",
              " StringIndexer_3478750a1900,\n",
              " OneHotEncoder_85550c08544f,\n",
              " StringIndexer_29faa38db638,\n",
              " OneHotEncoder_6e7814bb2163,\n",
              " StringIndexer_ef57268e408f,\n",
              " OneHotEncoder_dc750f1abba5,\n",
              " StringIndexer_f61a440c248b,\n",
              " OneHotEncoder_210e90fcf582,\n",
              " StringIndexer_3bfd3d787d50,\n",
              " OneHotEncoder_40c0c0e6ff48,\n",
              " StringIndexer_d2739a21a07a,\n",
              " OneHotEncoder_de5e7e06ce30,\n",
              " StringIndexer_211bc5331312,\n",
              " OneHotEncoder_5aa9e27e3c89,\n",
              " StringIndexer_6142645124e3,\n",
              " OneHotEncoder_4e24e152607b,\n",
              " StringIndexer_5a18ba84cd20,\n",
              " OneHotEncoder_d83fc8bb7f28,\n",
              " StringIndexer_28ca45568974,\n",
              " OneHotEncoder_25e0fac4b4dd,\n",
              " StringIndexer_2570da0153b9,\n",
              " OneHotEncoder_a828e58f02dd,\n",
              " StringIndexer_09454fb12bc9,\n",
              " OneHotEncoder_7eeaa733ea8a,\n",
              " StringIndexer_ccf28dd9b1ab,\n",
              " OneHotEncoder_d53ab22b5195,\n",
              " StringIndexer_eb346c83a282,\n",
              " OneHotEncoder_a79c9a8f85ff,\n",
              " StringIndexer_96711aafb79b,\n",
              " OneHotEncoder_ab8cb71cab9e,\n",
              " Imputer_6b72daa84a4c,\n",
              " StringIndexer_67c85fb92e11,\n",
              " QuantileDiscretizer_69c69b9bff27]"
            ]
          },
          "metadata": {
            "tags": []
          },
          "execution_count": 28
        }
      ]
    },
    {
      "cell_type": "code",
      "metadata": {
        "id": "9dkRSc408ckT"
      },
      "source": [
        "## Adding all the columns into vector assembler\n",
        "numericCols=[\"tenure_bin\",\"Out_TotalCharges\",\"MonthlyCharges\"]\n",
        "assembleInputs=[c+\"catVec\" for c in catColumns]+numericCols\n",
        "assembler=VectorAssembler(inputCols=assembleInputs,outputCol=\"features\")\n",
        "stages+=[assembler]"
      ],
      "execution_count": null,
      "outputs": []
    },
    {
      "cell_type": "code",
      "metadata": {
        "id": "Xoy11f-09-is"
      },
      "source": [
        "## adding different stages into Pipeline\n",
        "pipeline=Pipeline().setStages(stages)\n",
        "pipelineModel=pipeline.fit(train_data)"
      ],
      "execution_count": null,
      "outputs": []
    },
    {
      "cell_type": "code",
      "metadata": {
        "id": "HbgaUhmA-mIr"
      },
      "source": [
        "trainprepDF=pipelineModel.transform(train_data)\n",
        "testprepDF=pipelineModel.transform(test_data)"
      ],
      "execution_count": null,
      "outputs": []
    },
    {
      "cell_type": "code",
      "metadata": {
        "id": "vMicNCVM-8Rs",
        "outputId": "83b8c3ae-4320-4dba-dc44-4c021f04bce5",
        "colab": {
          "base_uri": "https://localhost:8080/"
        }
      },
      "source": [
        "trainprepDF.head(1)"
      ],
      "execution_count": null,
      "outputs": [
        {
          "output_type": "execute_result",
          "data": {
            "text/plain": [
              "[Row(customerID='0002-ORFBO', gender='Female', SeniorCitizen=0, Partner='Yes', Dependents='Yes', tenure=9, PhoneService='Yes', MultipleLines='No', InternetService='DSL', OnlineSecurity='No', OnlineBackup='Yes', DeviceProtection='No', TechSupport='Yes', StreamingTV='Yes', StreamingMovies='No', Contract='One year', PaperlessBilling='Yes', PaymentMethod='Mailed check', MonthlyCharges=65.6, TotalCharges=593.3, Churn='No', genderIndex=1.0, gendercatVec=SparseVector(1, {}), SeniorCitizenIndex=0.0, SeniorCitizencatVec=SparseVector(1, {0: 1.0}), PartnerIndex=1.0, PartnercatVec=SparseVector(1, {}), DependentsIndex=1.0, DependentscatVec=SparseVector(1, {}), PhoneServiceIndex=0.0, PhoneServicecatVec=SparseVector(1, {0: 1.0}), MultipleLinesIndex=0.0, MultipleLinescatVec=SparseVector(2, {0: 1.0}), InternetServiceIndex=1.0, InternetServicecatVec=SparseVector(2, {1: 1.0}), OnlineSecurityIndex=0.0, OnlineSecuritycatVec=SparseVector(2, {0: 1.0}), OnlineBackupIndex=1.0, OnlineBackupcatVec=SparseVector(2, {1: 1.0}), DeviceProtectionIndex=0.0, DeviceProtectioncatVec=SparseVector(2, {0: 1.0}), TechSupportIndex=1.0, TechSupportcatVec=SparseVector(2, {1: 1.0}), StreamingTVIndex=1.0, StreamingTVcatVec=SparseVector(2, {1: 1.0}), StreamingMoviesIndex=0.0, StreamingMoviescatVec=SparseVector(2, {0: 1.0}), ContractIndex=2.0, ContractcatVec=SparseVector(2, {}), PaperlessBillingIndex=0.0, PaperlessBillingcatVec=SparseVector(1, {0: 1.0}), PaymentMethodIndex=1.0, PaymentMethodcatVec=SparseVector(3, {1: 1.0}), Out_TotalCharges=593.3, label=0.0, tenure_bin=0.0, features=SparseVector(30, {1: 1.0, 4: 1.0, 5: 1.0, 8: 1.0, 9: 1.0, 12: 1.0, 13: 1.0, 16: 1.0, 18: 1.0, 19: 1.0, 23: 1.0, 25: 1.0, 28: 593.3, 29: 65.6}))]"
            ]
          },
          "metadata": {
            "tags": []
          },
          "execution_count": 34
        }
      ]
    },
    {
      "cell_type": "code",
      "metadata": {
        "id": "lUll9dc8--6V",
        "outputId": "005a2b69-82d9-424e-f159-137e8f0d4ebc",
        "colab": {
          "base_uri": "https://localhost:8080/"
        }
      },
      "source": [
        "customer_df.select('PaymentMethod').distinct().show()"
      ],
      "execution_count": null,
      "outputs": [
        {
          "output_type": "stream",
          "text": [
            "+--------------------+\n",
            "|       PaymentMethod|\n",
            "+--------------------+\n",
            "|Credit card (auto...|\n",
            "|        Mailed check|\n",
            "|Bank transfer (au...|\n",
            "|    Electronic check|\n",
            "+--------------------+\n",
            "\n"
          ],
          "name": "stdout"
        }
      ]
    },
    {
      "cell_type": "code",
      "metadata": {
        "id": "yf6k4JXFDjoL"
      },
      "source": [
        "## Create initial Logistic Regression model\n",
        "lr=LogisticRegression(labelCol=\"label\",featuresCol=\"features\",maxIter=10)\n",
        "\n",
        "## Train model with Training Data\n",
        "lrModel=lr.fit(trainprepDF)"
      ],
      "execution_count": null,
      "outputs": []
    },
    {
      "cell_type": "code",
      "metadata": {
        "id": "3vNpcd51E5Vb",
        "outputId": "62055cb2-4405-409a-8bbc-3ad2fca93631",
        "colab": {
          "base_uri": "https://localhost:8080/"
        }
      },
      "source": [
        "print(\"Coefficients: \"+str(lrModel.coefficients))\n",
        "print(\"Intercept: \"+str(lrModel.intercept))"
      ],
      "execution_count": null,
      "outputs": [
        {
          "output_type": "stream",
          "text": [
            "Coefficients: [0.0342809611746217,-0.331216284496287,-0.10403353480847842,0.12868949953119735,-0.6191319066991583,-0.2471779782628914,0.02685651848830146,0.5947672912779578,-0.43247345849078295,0.2603430987936111,-0.0787349437852818,0.17599225878190355,0.02509437687639419,0.13427108880327826,0.07038245227252787,0.24746208612235363,-0.06197277109519446,-0.03742781487967394,0.24498552330495715,0.012591165389668446,0.1928780997457295,0.707410578947039,-0.852599384482354,0.2978156771216554,0.3370045996232975,-0.08658398567782667,0.010002030098458728,-0.722185024128052,-0.00011665000139783336,0.005179321234768732]\n",
            "Intercept: -1.1540815271668787\n"
          ],
          "name": "stdout"
        }
      ]
    },
    {
      "cell_type": "code",
      "metadata": {
        "id": "ugwPoRTGFmBN"
      },
      "source": [
        "summary=lrModel.summary"
      ],
      "execution_count": null,
      "outputs": []
    },
    {
      "cell_type": "code",
      "metadata": {
        "id": "_FL3HxRvFxx0"
      },
      "source": [
        "## Evaluation metrics\n",
        "accuracy=summary.accuracy\n",
        "falsePositiveRate=summary.weightedFalsePositiveRate\n",
        "truePositiveRate=summary.weightedTruePositiveRate\n",
        "fMeasure=summary.weightedFMeasure()\n",
        "precision=summary.weightedPrecision\n",
        "recall=summary.weightedRecall"
      ],
      "execution_count": null,
      "outputs": []
    },
    {
      "cell_type": "code",
      "metadata": {
        "id": "vBFhpGynGR2L",
        "outputId": "f394e28d-b1cf-4aa0-a233-ccca11b52317",
        "colab": {
          "base_uri": "https://localhost:8080/"
        }
      },
      "source": [
        "print(\"Accuracy: %s\\nFPR:%s\\nTPR:%s\\nF-Measure:%s\\nPrecision:%s\\nRecall:%s\\nAreaUnderROC:%s\"\n",
        "      %(accuracy,falsePositiveRate,truePositiveRate,fMeasure,precision,recall,summary.areaUnderROC))"
      ],
      "execution_count": null,
      "outputs": [
        {
          "output_type": "stream",
          "text": [
            "Accuracy: 0.8057466612707406\n",
            "FPR:0.3625173099768732\n",
            "TPR:0.8057466612707406\n",
            "F-Measure:0.7993759299320431\n",
            "Precision:0.7971094940545889\n",
            "Recall:0.8057466612707406\n",
            "AreaUnderROC:0.8498426976249556\n"
          ],
          "name": "stdout"
        }
      ]
    },
    {
      "cell_type": "code",
      "metadata": {
        "id": "gFm0HB1WHKz8",
        "outputId": "08140a72-a31c-459a-8850-5d5a873c5cea",
        "colab": {
          "base_uri": "https://localhost:8080/",
          "height": 53
        }
      },
      "source": [
        "## ROC \n",
        "from pyspark.ml.evaluation import BinaryClassificationEvaluator\n",
        "predictions=lrModel.transform(testprepDF)\n",
        "evaluatorLR=BinaryClassificationEvaluator(rawPredictionCol=\"prediction\")\n",
        "area_under_curve=evaluatorLR.evaluate(predictions)\n",
        "\n",
        "## default evaluation in ROC\n",
        "print(\"areaUnderROC= %g\" % area_under_curve)\n",
        "\n",
        "evaluatorLR.getMetricName()"
      ],
      "execution_count": null,
      "outputs": [
        {
          "output_type": "stream",
          "text": [
            "areaUnderROC= 0.704116\n"
          ],
          "name": "stdout"
        },
        {
          "output_type": "execute_result",
          "data": {
            "application/vnd.google.colaboratory.intrinsic+json": {
              "type": "string"
            },
            "text/plain": [
              "'areaUnderROC'"
            ]
          },
          "metadata": {
            "tags": []
          },
          "execution_count": 41
        }
      ]
    },
    {
      "cell_type": "code",
      "metadata": {
        "id": "sv3F5jbWYEc6"
      },
      "source": [
        "from pyspark.mllib.evaluation import BinaryClassificationMetrics\n",
        "results=predictions.select(['prediction','label'])"
      ],
      "execution_count": null,
      "outputs": []
    },
    {
      "cell_type": "code",
      "metadata": {
        "id": "Pb1KkWyzYFU9",
        "outputId": "22186bc5-dfaf-4cf2-c8ad-cc2b70aa1707",
        "colab": {
          "base_uri": "https://localhost:8080/"
        }
      },
      "source": [
        "## Prepare score-label set\n",
        "results_collect=results.collect()\n",
        "results_list=[(float(i[0]),float(i[1])) for i in results_collect]\n",
        "predictionAndLabels=sc.parallelize(results_list)\n",
        "\n",
        "metrics=BinaryClassificationMetrics(predictionAndLabels)\n",
        "\n",
        "## Area under precision-recall curve\n",
        "print(\"Area under PR=%s\"% metrics.areaUnderPR)\n",
        "\n",
        "## Area under ROC curve\n",
        "print(\"Area under ROC=%s\"% metrics.areaUnderROC)\n",
        "\n",
        "predictions.show(1)"
      ],
      "execution_count": null,
      "outputs": [
        {
          "output_type": "stream",
          "text": [
            "Area under PR=0.5395619163792253\n",
            "Area under ROC=0.7041164527040232\n",
            "+----------+------+-------------+-------+----------+------+------------+-------------+---------------+--------------+------------+----------------+-----------+-----------+---------------+--------+----------------+--------------------+--------------+------------+-----+-----------+-------------+------------------+-------------------+------------+-------------+---------------+----------------+-----------------+------------------+------------------+-------------------+--------------------+---------------------+-------------------+--------------------+-----------------+------------------+---------------------+----------------------+----------------+-----------------+----------------+-----------------+--------------------+---------------------+-------------+--------------+---------------------+----------------------+------------------+-------------------+----------------+-----+----------+--------------------+--------------------+--------------------+----------+\n",
            "|customerID|gender|SeniorCitizen|Partner|Dependents|tenure|PhoneService|MultipleLines|InternetService|OnlineSecurity|OnlineBackup|DeviceProtection|TechSupport|StreamingTV|StreamingMovies|Contract|PaperlessBilling|       PaymentMethod|MonthlyCharges|TotalCharges|Churn|genderIndex| gendercatVec|SeniorCitizenIndex|SeniorCitizencatVec|PartnerIndex|PartnercatVec|DependentsIndex|DependentscatVec|PhoneServiceIndex|PhoneServicecatVec|MultipleLinesIndex|MultipleLinescatVec|InternetServiceIndex|InternetServicecatVec|OnlineSecurityIndex|OnlineSecuritycatVec|OnlineBackupIndex|OnlineBackupcatVec|DeviceProtectionIndex|DeviceProtectioncatVec|TechSupportIndex|TechSupportcatVec|StreamingTVIndex|StreamingTVcatVec|StreamingMoviesIndex|StreamingMoviescatVec|ContractIndex|ContractcatVec|PaperlessBillingIndex|PaperlessBillingcatVec|PaymentMethodIndex|PaymentMethodcatVec|Out_TotalCharges|label|tenure_bin|            features|       rawPrediction|         probability|prediction|\n",
            "+----------+------+-------------+-------+----------+------+------------+-------------+---------------+--------------+------------+----------------+-----------+-----------+---------------+--------+----------------+--------------------+--------------+------------+-----+-----------+-------------+------------------+-------------------+------------+-------------+---------------+----------------+-----------------+------------------+------------------+-------------------+--------------------+---------------------+-------------------+--------------------+-----------------+------------------+---------------------+----------------------+----------------+-----------------+----------------+-----------------+--------------------+---------------------+-------------+--------------+---------------------+----------------------+------------------+-------------------+----------------+-----+----------+--------------------+--------------------+--------------------+----------+\n",
            "|0014-BMAQU|  Male|            0|    Yes|        No|    63|         Yes|          Yes|    Fiber optic|           Yes|          No|              No|        Yes|         No|             No|Two year|             Yes|Credit card (auto...|         84.65|      5377.8|   No|        0.0|(1,[0],[1.0])|               0.0|      (1,[0],[1.0])|         1.0|    (1,[],[])|            0.0|   (1,[0],[1.0])|              0.0|     (1,[0],[1.0])|               1.0|      (2,[1],[1.0])|                 0.0|        (2,[0],[1.0])|                1.0|       (2,[1],[1.0])|              0.0|     (2,[0],[1.0])|                  0.0|         (2,[0],[1.0])|             1.0|    (2,[1],[1.0])|             0.0|    (2,[0],[1.0])|                 0.0|        (2,[0],[1.0])|          1.0| (2,[1],[1.0])|                  0.0|         (1,[0],[1.0])|               3.0|          (3,[],[])|          5377.8|  0.0|       2.0|(30,[0,1,3,4,6,7,...|[3.36316105528644...|[0.96653317765235...|       0.0|\n",
            "+----------+------+-------------+-------+----------+------+------------+-------------+---------------+--------------+------------+----------------+-----------+-----------+---------------+--------+----------------+--------------------+--------------+------------+-----+-----------+-------------+------------------+-------------------+------------+-------------+---------------+----------------+-----------------+------------------+------------------+-------------------+--------------------+---------------------+-------------------+--------------------+-----------------+------------------+---------------------+----------------------+----------------+-----------------+----------------+-----------------+--------------------+---------------------+-------------+--------------+---------------------+----------------------+------------------+-------------------+----------------+-----+----------+--------------------+--------------------+--------------------+----------+\n",
            "only showing top 1 row\n",
            "\n"
          ],
          "name": "stdout"
        }
      ]
    },
    {
      "cell_type": "code",
      "metadata": {
        "id": "s5VeAQNuYFhb",
        "outputId": "55c89505-c90c-4402-dad5-cac98b452cb0",
        "colab": {
          "base_uri": "https://localhost:8080/"
        }
      },
      "source": [
        "## evaluation metrics for test data\n",
        "count=predictions.count()\n",
        "correct=results.filter(results.prediction==results.label).count()\n",
        "wrong=results.filter(results.prediction!=results.label).count()\n",
        "tp=results.filter(results.prediction==1.0).filter(results.prediction==results.label).count()\n",
        "fp=results.filter(results.prediction==1.0).filter(results.prediction!=results.label).count()\n",
        "fn=results.filter(results.prediction==0.0).filter(results.prediction!=results.label).count()\n",
        "tn=results.filter(results.prediction==0.0).filter(results.prediction==results.label).count()\n",
        "\n",
        "accuracy=(tp+tn)/count\n",
        "precision=tp/(tp+fp)\n",
        "recall=tp/(tp+fn)\n",
        "\n",
        "print(\"Correct: %s\\nWrong:%s\\ntp:%s\\nfp:%s\\nfn:%s\\ntn:%s\\nAccuracy:%s\\nPrecision:%s\\nRecall:%s\"\n",
        "      %(correct,wrong,tp,fp,fn,tn,accuracy,precision,recall))"
      ],
      "execution_count": null,
      "outputs": [
        {
          "output_type": "stream",
          "text": [
            "Correct: 1652\n",
            "Wrong:449\n",
            "tp:298\n",
            "fp:180\n",
            "fn:269\n",
            "tn:1354\n",
            "Accuracy:0.786292241789624\n",
            "Precision:0.6234309623430963\n",
            "Recall:0.5255731922398589\n"
          ],
          "name": "stdout"
        }
      ]
    },
    {
      "cell_type": "code",
      "metadata": {
        "id": "ldf_WYNYLS9F"
      },
      "source": [
        "from pyspark.ml.tuning import ParamGridBuilder,CrossValidator\n",
        "\n",
        "## Create a ParamGrid for Cross Validation\n",
        "paramGrid=(ParamGridBuilder()\n",
        "          .addGrid(lr.regParam,[0.01,0.5,2.0])\n",
        "          .addGrid(lr.elasticNetParam,[0.0,0.5,1.0])\n",
        "          .addGrid(lr.maxIter,[5,10,20])\n",
        "          .build())"
      ],
      "execution_count": null,
      "outputs": []
    },
    {
      "cell_type": "code",
      "metadata": {
        "id": "BnZFNakmPF8b"
      },
      "source": [
        "cv=CrossValidator(estimator=lr,estimatorParamMaps=paramGrid,evaluator=evaluatorLR,numFolds=5)\n",
        "\n",
        "## Run Cross validations\n",
        "cvModel=cv.fit(trainprepDF)"
      ],
      "execution_count": null,
      "outputs": []
    },
    {
      "cell_type": "code",
      "metadata": {
        "id": "ecFhff3rQp5z"
      },
      "source": [
        "predictions=cvModel.bestModel.transform(testprepDF)"
      ],
      "execution_count": null,
      "outputs": []
    },
    {
      "cell_type": "code",
      "metadata": {
        "id": "ZHuGenDVQ716",
        "outputId": "130fdf66-008c-4f91-d04c-e4932d5be010",
        "colab": {
          "base_uri": "https://localhost:8080/"
        }
      },
      "source": [
        "evaluatorLR.evaluate(predictions)"
      ],
      "execution_count": null,
      "outputs": [
        {
          "output_type": "execute_result",
          "data": {
            "text/plain": [
              "0.7058421804184516"
            ]
          },
          "metadata": {
            "tags": []
          },
          "execution_count": 60
        }
      ]
    },
    {
      "cell_type": "code",
      "metadata": {
        "id": "CcUTYq2BRMXG",
        "outputId": "d91dd6bb-da13-43eb-b8dc-2748ba6bd419",
        "colab": {
          "base_uri": "https://localhost:8080/"
        }
      },
      "source": [
        "results=predictions.select(['prediction','label'])\n",
        "\n",
        "count=predictions.count()\n",
        "correct=results.filter(results.prediction==results.label).count()\n",
        "wrong=results.filter(results.prediction!=results.label).count()\n",
        "tp=results.filter(results.prediction==1.0).filter(results.prediction==results.label).count()\n",
        "fp=results.filter(results.prediction==1.0).filter(results.prediction!=results.label).count()\n",
        "fn=results.filter(results.prediction==0.0).filter(results.prediction!=results.label).count()\n",
        "tn=results.filter(results.prediction==0.0).filter(results.prediction==results.label).count()\n",
        "\n",
        "accuracy=(tp+tn)/count\n",
        "precision=tp/(tp+fp)\n",
        "recall=tp/(tp+fn)\n",
        "\n",
        "print(\"Correct: %s\\nWrong:%s\\ntp:%s\\nfp:%s\\nfn:%s\\ntn:%s\\nAccuracy:%s\\nPrecision:%s\\nRecall:%s\"\n",
        "      %(correct,wrong,tp,fp,fn,tn,accuracy,precision,recall))"
      ],
      "execution_count": null,
      "outputs": [
        {
          "output_type": "stream",
          "text": [
            "Correct: 1659\n",
            "Wrong:442\n",
            "tp:297\n",
            "fp:172\n",
            "fn:270\n",
            "tn:1362\n",
            "Accuracy:0.7896239885768681\n",
            "Precision:0.6332622601279317\n",
            "Recall:0.5238095238095238\n"
          ],
          "name": "stdout"
        }
      ]
    },
    {
      "cell_type": "code",
      "metadata": {
        "id": "alvPbAhwRMZv",
        "outputId": "6fcb5b55-09be-44fb-fe5f-6cece5de70f8",
        "colab": {
          "base_uri": "https://localhost:8080/",
          "height": 139
        }
      },
      "source": [
        "cvModel.explainParams()"
      ],
      "execution_count": null,
      "outputs": [
        {
          "output_type": "execute_result",
          "data": {
            "application/vnd.google.colaboratory.intrinsic+json": {
              "type": "string"
            },
            "text/plain": [
              "\"estimator: estimator to be cross-validated (current: LogisticRegression_9099ab21d606)\\nestimatorParamMaps: estimator param maps (current: [{Param(parent='LogisticRegression_9099ab21d606', name='regParam', doc='regularization parameter (>= 0).'): 0.01, Param(parent='LogisticRegression_9099ab21d606', name='elasticNetParam', doc='the ElasticNet mixing parameter, in range [0, 1]. For alpha = 0, the penalty is an L2 penalty. For alpha = 1, it is an L1 penalty.'): 0.0, Param(parent='LogisticRegression_9099ab21d606', name='maxIter', doc='max number of iterations (>= 0).'): 5}, {Param(parent='LogisticRegression_9099ab21d606', name='regParam', doc='regularization parameter (>= 0).'): 0.01, Param(parent='LogisticRegression_9099ab21d606', name='elasticNetParam', doc='the ElasticNet mixing parameter, in range [0, 1]. For alpha = 0, the penalty is an L2 penalty. For alpha = 1, it is an L1 penalty.'): 0.0, Param(parent='LogisticRegression_9099ab21d606', name='maxIter', doc='max number of iterations (>= 0).'): 10}, {Param(parent='LogisticRegression_9099ab21d606', name='regParam', doc='regularization parameter (>= 0).'): 0.01, Param(parent='LogisticRegression_9099ab21d606', name='elasticNetParam', doc='the ElasticNet mixing parameter, in range [0, 1]. For alpha = 0, the penalty is an L2 penalty. For alpha = 1, it is an L1 penalty.'): 0.0, Param(parent='LogisticRegression_9099ab21d606', name='maxIter', doc='max number of iterations (>= 0).'): 20}, {Param(parent='LogisticRegression_9099ab21d606', name='regParam', doc='regularization parameter (>= 0).'): 0.01, Param(parent='LogisticRegression_9099ab21d606', name='elasticNetParam', doc='the ElasticNet mixing parameter, in range [0, 1]. For alpha = 0, the penalty is an L2 penalty. For alpha = 1, it is an L1 penalty.'): 0.5, Param(parent='LogisticRegression_9099ab21d606', name='maxIter', doc='max number of iterations (>= 0).'): 5}, {Param(parent='LogisticRegression_9099ab21d606', name='regParam', doc='regularization parameter (>= 0).'): 0.01, Param(parent='LogisticRegression_9099ab21d606', name='elasticNetParam', doc='the ElasticNet mixing parameter, in range [0, 1]. For alpha = 0, the penalty is an L2 penalty. For alpha = 1, it is an L1 penalty.'): 0.5, Param(parent='LogisticRegression_9099ab21d606', name='maxIter', doc='max number of iterations (>= 0).'): 10}, {Param(parent='LogisticRegression_9099ab21d606', name='regParam', doc='regularization parameter (>= 0).'): 0.01, Param(parent='LogisticRegression_9099ab21d606', name='elasticNetParam', doc='the ElasticNet mixing parameter, in range [0, 1]. For alpha = 0, the penalty is an L2 penalty. For alpha = 1, it is an L1 penalty.'): 0.5, Param(parent='LogisticRegression_9099ab21d606', name='maxIter', doc='max number of iterations (>= 0).'): 20}, {Param(parent='LogisticRegression_9099ab21d606', name='regParam', doc='regularization parameter (>= 0).'): 0.01, Param(parent='LogisticRegression_9099ab21d606', name='elasticNetParam', doc='the ElasticNet mixing parameter, in range [0, 1]. For alpha = 0, the penalty is an L2 penalty. For alpha = 1, it is an L1 penalty.'): 1.0, Param(parent='LogisticRegression_9099ab21d606', name='maxIter', doc='max number of iterations (>= 0).'): 5}, {Param(parent='LogisticRegression_9099ab21d606', name='regParam', doc='regularization parameter (>= 0).'): 0.01, Param(parent='LogisticRegression_9099ab21d606', name='elasticNetParam', doc='the ElasticNet mixing parameter, in range [0, 1]. For alpha = 0, the penalty is an L2 penalty. For alpha = 1, it is an L1 penalty.'): 1.0, Param(parent='LogisticRegression_9099ab21d606', name='maxIter', doc='max number of iterations (>= 0).'): 10}, {Param(parent='LogisticRegression_9099ab21d606', name='regParam', doc='regularization parameter (>= 0).'): 0.01, Param(parent='LogisticRegression_9099ab21d606', name='elasticNetParam', doc='the ElasticNet mixing parameter, in range [0, 1]. For alpha = 0, the penalty is an L2 penalty. For alpha = 1, it is an L1 penalty.'): 1.0, Param(parent='LogisticRegression_9099ab21d606', name='maxIter', doc='max number of iterations (>= 0).'): 20}, {Param(parent='LogisticRegression_9099ab21d606', name='regParam', doc='regularization parameter (>= 0).'): 0.5, Param(parent='LogisticRegression_9099ab21d606', name='elasticNetParam', doc='the ElasticNet mixing parameter, in range [0, 1]. For alpha = 0, the penalty is an L2 penalty. For alpha = 1, it is an L1 penalty.'): 0.0, Param(parent='LogisticRegression_9099ab21d606', name='maxIter', doc='max number of iterations (>= 0).'): 5}, {Param(parent='LogisticRegression_9099ab21d606', name='regParam', doc='regularization parameter (>= 0).'): 0.5, Param(parent='LogisticRegression_9099ab21d606', name='elasticNetParam', doc='the ElasticNet mixing parameter, in range [0, 1]. For alpha = 0, the penalty is an L2 penalty. For alpha = 1, it is an L1 penalty.'): 0.0, Param(parent='LogisticRegression_9099ab21d606', name='maxIter', doc='max number of iterations (>= 0).'): 10}, {Param(parent='LogisticRegression_9099ab21d606', name='regParam', doc='regularization parameter (>= 0).'): 0.5, Param(parent='LogisticRegression_9099ab21d606', name='elasticNetParam', doc='the ElasticNet mixing parameter, in range [0, 1]. For alpha = 0, the penalty is an L2 penalty. For alpha = 1, it is an L1 penalty.'): 0.0, Param(parent='LogisticRegression_9099ab21d606', name='maxIter', doc='max number of iterations (>= 0).'): 20}, {Param(parent='LogisticRegression_9099ab21d606', name='regParam', doc='regularization parameter (>= 0).'): 0.5, Param(parent='LogisticRegression_9099ab21d606', name='elasticNetParam', doc='the ElasticNet mixing parameter, in range [0, 1]. For alpha = 0, the penalty is an L2 penalty. For alpha = 1, it is an L1 penalty.'): 0.5, Param(parent='LogisticRegression_9099ab21d606', name='maxIter', doc='max number of iterations (>= 0).'): 5}, {Param(parent='LogisticRegression_9099ab21d606', name='regParam', doc='regularization parameter (>= 0).'): 0.5, Param(parent='LogisticRegression_9099ab21d606', name='elasticNetParam', doc='the ElasticNet mixing parameter, in range [0, 1]. For alpha = 0, the penalty is an L2 penalty. For alpha = 1, it is an L1 penalty.'): 0.5, Param(parent='LogisticRegression_9099ab21d606', name='maxIter', doc='max number of iterations (>= 0).'): 10}, {Param(parent='LogisticRegression_9099ab21d606', name='regParam', doc='regularization parameter (>= 0).'): 0.5, Param(parent='LogisticRegression_9099ab21d606', name='elasticNetParam', doc='the ElasticNet mixing parameter, in range [0, 1]. For alpha = 0, the penalty is an L2 penalty. For alpha = 1, it is an L1 penalty.'): 0.5, Param(parent='LogisticRegression_9099ab21d606', name='maxIter', doc='max number of iterations (>= 0).'): 20}, {Param(parent='LogisticRegression_9099ab21d606', name='regParam', doc='regularization parameter (>= 0).'): 0.5, Param(parent='LogisticRegression_9099ab21d606', name='elasticNetParam', doc='the ElasticNet mixing parameter, in range [0, 1]. For alpha = 0, the penalty is an L2 penalty. For alpha = 1, it is an L1 penalty.'): 1.0, Param(parent='LogisticRegression_9099ab21d606', name='maxIter', doc='max number of iterations (>= 0).'): 5}, {Param(parent='LogisticRegression_9099ab21d606', name='regParam', doc='regularization parameter (>= 0).'): 0.5, Param(parent='LogisticRegression_9099ab21d606', name='elasticNetParam', doc='the ElasticNet mixing parameter, in range [0, 1]. For alpha = 0, the penalty is an L2 penalty. For alpha = 1, it is an L1 penalty.'): 1.0, Param(parent='LogisticRegression_9099ab21d606', name='maxIter', doc='max number of iterations (>= 0).'): 10}, {Param(parent='LogisticRegression_9099ab21d606', name='regParam', doc='regularization parameter (>= 0).'): 0.5, Param(parent='LogisticRegression_9099ab21d606', name='elasticNetParam', doc='the ElasticNet mixing parameter, in range [0, 1]. For alpha = 0, the penalty is an L2 penalty. For alpha = 1, it is an L1 penalty.'): 1.0, Param(parent='LogisticRegression_9099ab21d606', name='maxIter', doc='max number of iterations (>= 0).'): 20}, {Param(parent='LogisticRegression_9099ab21d606', name='regParam', doc='regularization parameter (>= 0).'): 2.0, Param(parent='LogisticRegression_9099ab21d606', name='elasticNetParam', doc='the ElasticNet mixing parameter, in range [0, 1]. For alpha = 0, the penalty is an L2 penalty. For alpha = 1, it is an L1 penalty.'): 0.0, Param(parent='LogisticRegression_9099ab21d606', name='maxIter', doc='max number of iterations (>= 0).'): 5}, {Param(parent='LogisticRegression_9099ab21d606', name='regParam', doc='regularization parameter (>= 0).'): 2.0, Param(parent='LogisticRegression_9099ab21d606', name='elasticNetParam', doc='the ElasticNet mixing parameter, in range [0, 1]. For alpha = 0, the penalty is an L2 penalty. For alpha = 1, it is an L1 penalty.'): 0.0, Param(parent='LogisticRegression_9099ab21d606', name='maxIter', doc='max number of iterations (>= 0).'): 10}, {Param(parent='LogisticRegression_9099ab21d606', name='regParam', doc='regularization parameter (>= 0).'): 2.0, Param(parent='LogisticRegression_9099ab21d606', name='elasticNetParam', doc='the ElasticNet mixing parameter, in range [0, 1]. For alpha = 0, the penalty is an L2 penalty. For alpha = 1, it is an L1 penalty.'): 0.0, Param(parent='LogisticRegression_9099ab21d606', name='maxIter', doc='max number of iterations (>= 0).'): 20}, {Param(parent='LogisticRegression_9099ab21d606', name='regParam', doc='regularization parameter (>= 0).'): 2.0, Param(parent='LogisticRegression_9099ab21d606', name='elasticNetParam', doc='the ElasticNet mixing parameter, in range [0, 1]. For alpha = 0, the penalty is an L2 penalty. For alpha = 1, it is an L1 penalty.'): 0.5, Param(parent='LogisticRegression_9099ab21d606', name='maxIter', doc='max number of iterations (>= 0).'): 5}, {Param(parent='LogisticRegression_9099ab21d606', name='regParam', doc='regularization parameter (>= 0).'): 2.0, Param(parent='LogisticRegression_9099ab21d606', name='elasticNetParam', doc='the ElasticNet mixing parameter, in range [0, 1]. For alpha = 0, the penalty is an L2 penalty. For alpha = 1, it is an L1 penalty.'): 0.5, Param(parent='LogisticRegression_9099ab21d606', name='maxIter', doc='max number of iterations (>= 0).'): 10}, {Param(parent='LogisticRegression_9099ab21d606', name='regParam', doc='regularization parameter (>= 0).'): 2.0, Param(parent='LogisticRegression_9099ab21d606', name='elasticNetParam', doc='the ElasticNet mixing parameter, in range [0, 1]. For alpha = 0, the penalty is an L2 penalty. For alpha = 1, it is an L1 penalty.'): 0.5, Param(parent='LogisticRegression_9099ab21d606', name='maxIter', doc='max number of iterations (>= 0).'): 20}, {Param(parent='LogisticRegression_9099ab21d606', name='regParam', doc='regularization parameter (>= 0).'): 2.0, Param(parent='LogisticRegression_9099ab21d606', name='elasticNetParam', doc='the ElasticNet mixing parameter, in range [0, 1]. For alpha = 0, the penalty is an L2 penalty. For alpha = 1, it is an L1 penalty.'): 1.0, Param(parent='LogisticRegression_9099ab21d606', name='maxIter', doc='max number of iterations (>= 0).'): 5}, {Param(parent='LogisticRegression_9099ab21d606', name='regParam', doc='regularization parameter (>= 0).'): 2.0, Param(parent='LogisticRegression_9099ab21d606', name='elasticNetParam', doc='the ElasticNet mixing parameter, in range [0, 1]. For alpha = 0, the penalty is an L2 penalty. For alpha = 1, it is an L1 penalty.'): 1.0, Param(parent='LogisticRegression_9099ab21d606', name='maxIter', doc='max number of iterations (>= 0).'): 10}, {Param(parent='LogisticRegression_9099ab21d606', name='regParam', doc='regularization parameter (>= 0).'): 2.0, Param(parent='LogisticRegression_9099ab21d606', name='elasticNetParam', doc='the ElasticNet mixing parameter, in range [0, 1]. For alpha = 0, the penalty is an L2 penalty. For alpha = 1, it is an L1 penalty.'): 1.0, Param(parent='LogisticRegression_9099ab21d606', name='maxIter', doc='max number of iterations (>= 0).'): 20}])\\nevaluator: evaluator used to select hyper-parameters that maximize the validator metric (current: BinaryClassificationEvaluator_eec6f1a84b78)\\nnumFolds: number of folds for cross validation (default: 3, current: 5)\\nseed: random seed. (default: -7609975384694190605)\""
            ]
          },
          "metadata": {
            "tags": []
          },
          "execution_count": 52
        }
      ]
    },
    {
      "cell_type": "code",
      "metadata": {
        "id": "Lc9BFc02R79A"
      },
      "source": [
        "## Random forest classier\n",
        "from pyspark.ml.classification import RandomForestClassifier\n",
        "\n",
        "rf=RandomForestClassifier(labelCol=\"label\",featuresCol=\"features\").setImpurity(\"gini\").setMaxDepth(6).setNumTrees(50)\\\n",
        "                                                                  .setFeatureSubsetStrategy(\"auto\").setSeed(1010)\n",
        "rfModel=rf.fit(trainprepDF)"
      ],
      "execution_count": null,
      "outputs": []
    },
    {
      "cell_type": "code",
      "metadata": {
        "id": "PB-AOSLYTDYL"
      },
      "source": [
        "predictions=rfModel.transform(testprepDF)"
      ],
      "execution_count": null,
      "outputs": []
    },
    {
      "cell_type": "code",
      "metadata": {
        "id": "T2x15kNrTOjG",
        "outputId": "4dc56f3d-c6a8-49ad-b585-2a2d5628abb6",
        "colab": {
          "base_uri": "https://localhost:8080/"
        }
      },
      "source": [
        "results=predictions.select(['prediction','label'])\n",
        "\n",
        "count=predictions.count()\n",
        "correct=results.filter(results.prediction==results.label).count()\n",
        "wrong=results.filter(results.prediction!=results.label).count()\n",
        "tp=results.filter(results.prediction==1.0).filter(results.prediction==results.label).count()\n",
        "fp=results.filter(results.prediction==1.0).filter(results.prediction!=results.label).count()\n",
        "fn=results.filter(results.prediction==0.0).filter(results.prediction!=results.label).count()\n",
        "tn=results.filter(results.prediction==0.0).filter(results.prediction==results.label).count()\n",
        "\n",
        "accuracy=(tp+tn)/count\n",
        "precision=tp/(tp+fp)\n",
        "recall=tp/(tp+fn)\n",
        "\n",
        "print(\"Correct: %s\\nWrong:%s\\ntp:%s\\nfp:%s\\nfn:%s\\ntn:%s\\nAccuracy:%s\\nPrecision:%s\\nRecall:%s\"\n",
        "      %(correct,wrong,tp,fp,fn,tn,accuracy,precision,recall))"
      ],
      "execution_count": null,
      "outputs": [
        {
          "output_type": "stream",
          "text": [
            "Correct: 1647\n",
            "Wrong:454\n",
            "tp:233\n",
            "fp:120\n",
            "fn:334\n",
            "tn:1414\n",
            "Accuracy:0.7839124226558781\n",
            "Precision:0.660056657223796\n",
            "Recall:0.4109347442680776\n"
          ],
          "name": "stdout"
        }
      ]
    },
    {
      "cell_type": "code",
      "metadata": {
        "id": "xfKy8J5ETTp_"
      },
      "source": [
        ""
      ],
      "execution_count": null,
      "outputs": []
    }
  ]
}